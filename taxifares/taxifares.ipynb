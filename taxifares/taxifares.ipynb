{
 "cells": [
  {
   "cell_type": "markdown",
   "metadata": {},
   "source": [
    "reworking of this:\n",
    "\n",
    "[http://localhost:8888/notebooks/training-data-analyst/courses/machine_learning/deepdive/03_tensorflow/e_cloudmle.ipynb#Deploy-model]"
   ]
  },
  {
   "cell_type": "code",
   "execution_count": 1,
   "metadata": {},
   "outputs": [
    {
     "name": "stdout",
     "output_type": "stream",
     "text": [
      "1.12.0\n"
     ]
    }
   ],
   "source": [
    "import tensorflow as tf\n",
    "import pandas as pd\n",
    "import numpy as np\n",
    "import shutil\n",
    "import os\n",
    "print tf.__version__"
   ]
  },
  {
   "cell_type": "code",
   "execution_count": 2,
   "metadata": {},
   "outputs": [],
   "source": [
    "PROJECT = 'kouzoh-p-michal'   \n",
    "BUCKET = 'ml-training-kouzoh-p-michal-appspot-com' \n",
    "REGION = 'us-central1' \n",
    "\n",
    "MODEL_NAME = 'taxifare'\n",
    "MODEL_VERSION = 'v1'\n",
    "TRAINING_DIR = './data/taxi_trained'"
   ]
  },
  {
   "cell_type": "code",
   "execution_count": 3,
   "metadata": {},
   "outputs": [],
   "source": [
    "# for bash\n",
    "os.environ['PROJECT'] = PROJECT\n",
    "os.environ['BUCKET'] = BUCKET\n",
    "os.environ['REGION'] = REGION\n",
    "os.environ['TFVERSION'] = '1.8' \n",
    "os.environ['CLOUDSDK_PYTHON'] = 'python2'\n",
    "os.environ['MODEL_NAME'] = MODEL_NAME\n",
    "os.environ['MODEL_VERSION'] = MODEL_VERSION\n",
    "os.environ['TRAINING_DIR'] = TRAINING_DIR "
   ]
  },
  {
   "cell_type": "markdown",
   "metadata": {},
   "source": [
    "## Training data check\n",
    "Data is prepared as CSVs and uploaded to the bucket in a separate notebook"
   ]
  },
  {
   "cell_type": "code",
   "execution_count": 4,
   "metadata": {},
   "outputs": [],
   "source": [
    "%%bash\n",
    "#gsutil cp gs://$BUCKET/taxifare/ch4/taxi_preproc/test.csv-00000-of-00001 ./data/test.csv\n",
    "#gsutil cp gs://$BUCKET/taxifare/ch4/taxi_preproc/train.csv-00000-of-00001 ./data/train.csv\n",
    "#gsutil cp gs://$BUCKET/taxifare/ch4/taxi_preproc/valid.csv-00000-of-00001 ./data/valid.csv"
   ]
  },
  {
   "cell_type": "markdown",
   "metadata": {},
   "source": [
    "## Remove trained model data"
   ]
  },
  {
   "cell_type": "code",
   "execution_count": 10,
   "metadata": {},
   "outputs": [],
   "source": [
    "%%bash\n",
    "rm -rf $TRAINING_DIR/*"
   ]
  },
  {
   "cell_type": "markdown",
   "metadata": {},
   "source": [
    "## Train model locally"
   ]
  },
  {
   "cell_type": "code",
   "execution_count": 13,
   "metadata": {
    "scrolled": true
   },
   "outputs": [
    {
     "name": "stderr",
     "output_type": "stream",
     "text": [
      "INFO:tensorflow:Using default config.\n",
      "INFO:tensorflow:Using config: {'_save_checkpoints_secs': 600, '_num_ps_replicas': 0, '_keep_checkpoint_max': 5, '_task_type': 'worker', '_global_id_in_cluster': 0, '_is_chief': True, '_cluster_spec': <tensorflow.python.training.server_lib.ClusterSpec object at 0x7f77779a6290>, '_model_dir': './data/taxi_trained', '_protocol': None, '_save_checkpoints_steps': None, '_keep_checkpoint_every_n_hours': 10000, '_service': None, '_session_config': allow_soft_placement: true\n",
      "graph_options {\n",
      "  rewrite_options {\n",
      "    meta_optimizer_iterations: ONE\n",
      "  }\n",
      "}\n",
      ", '_tf_random_seed': None, '_save_summary_steps': 100, '_device_fn': None, '_experimental_distribute': None, '_num_worker_replicas': 1, '_task_id': 0, '_log_step_count_steps': 100, '_evaluation_master': '', '_eval_distribute': None, '_train_distribute': None, '_master': ''}\n",
      "INFO:tensorflow:Not using Distribute Coordinator.\n",
      "INFO:tensorflow:Running training and evaluation locally (non-distributed).\n",
      "INFO:tensorflow:Start train and evaluate loop. The evaluate will happen after every checkpoint. Checkpoint frequency is determined based on RunConfig arguments: save_checkpoints_steps None or save_checkpoints_secs 600.\n",
      "INFO:tensorflow:Calling model_fn.\n",
      "INFO:tensorflow:Done calling model_fn.\n",
      "INFO:tensorflow:Create CheckpointSaverHook.\n",
      "INFO:tensorflow:Graph was finalized.\n",
      "2019-03-11 13:02:05.728870: I tensorflow/core/platform/cpu_feature_guard.cc:141] Your CPU supports instructions that this TensorFlow binary was not compiled to use: AVX2 FMA\n",
      "INFO:tensorflow:Restoring parameters from ./data/taxi_trained/model.ckpt-2000\n",
      "INFO:tensorflow:Running local_init_op.\n",
      "INFO:tensorflow:Done running local_init_op.\n",
      "INFO:tensorflow:Saving checkpoints for 2000 into ./data/taxi_trained/model.ckpt.\n",
      "INFO:tensorflow:loss = 74599.95, step = 2001\n",
      "INFO:tensorflow:global_step/sec: 61.2579\n",
      "INFO:tensorflow:loss = 91392.03, step = 2101 (1.633 sec)\n",
      "INFO:tensorflow:global_step/sec: 65.4979\n",
      "INFO:tensorflow:loss = 62039.617, step = 2201 (1.527 sec)\n",
      "INFO:tensorflow:global_step/sec: 65.1658\n",
      "INFO:tensorflow:loss = 68388.836, step = 2301 (1.535 sec)\n",
      "INFO:tensorflow:global_step/sec: 66.5437\n",
      "INFO:tensorflow:loss = 76989.78, step = 2401 (1.503 sec)\n",
      "INFO:tensorflow:global_step/sec: 67.2499\n",
      "INFO:tensorflow:loss = 48377.273, step = 2501 (1.487 sec)\n",
      "INFO:tensorflow:global_step/sec: 67.3471\n",
      "INFO:tensorflow:loss = 51827.926, step = 2601 (1.485 sec)\n",
      "INFO:tensorflow:global_step/sec: 65.4863\n",
      "INFO:tensorflow:loss = 58349.03, step = 2701 (1.527 sec)\n",
      "INFO:tensorflow:global_step/sec: 65.0089\n",
      "INFO:tensorflow:loss = 72587.61, step = 2801 (1.538 sec)\n",
      "INFO:tensorflow:global_step/sec: 66.6385\n",
      "INFO:tensorflow:loss = 57452.156, step = 2901 (1.501 sec)\n",
      "INFO:tensorflow:global_step/sec: 65.6343\n",
      "INFO:tensorflow:loss = 67036.91, step = 3001 (1.524 sec)\n",
      "INFO:tensorflow:global_step/sec: 66.0435\n",
      "INFO:tensorflow:loss = 47913.195, step = 3101 (1.514 sec)\n",
      "INFO:tensorflow:global_step/sec: 65.3013\n",
      "INFO:tensorflow:loss = 46518.75, step = 3201 (1.531 sec)\n",
      "INFO:tensorflow:global_step/sec: 62.8452\n",
      "INFO:tensorflow:loss = 54412.223, step = 3301 (1.591 sec)\n",
      "INFO:tensorflow:global_step/sec: 65.4457\n",
      "INFO:tensorflow:loss = 47889.324, step = 3401 (1.528 sec)\n",
      "INFO:tensorflow:global_step/sec: 67.4554\n",
      "INFO:tensorflow:loss = 57164.1, step = 3501 (1.483 sec)\n",
      "INFO:tensorflow:global_step/sec: 67.6796\n",
      "INFO:tensorflow:loss = 77727.14, step = 3601 (1.478 sec)\n",
      "INFO:tensorflow:global_step/sec: 65.0496\n",
      "INFO:tensorflow:loss = 67901.45, step = 3701 (1.537 sec)\n",
      "INFO:tensorflow:global_step/sec: 66.3637\n",
      "INFO:tensorflow:loss = 74186.58, step = 3801 (1.507 sec)\n",
      "INFO:tensorflow:global_step/sec: 66.8439\n",
      "INFO:tensorflow:loss = 64425.42, step = 3901 (1.496 sec)\n",
      "INFO:tensorflow:global_step/sec: 62.0015\n",
      "INFO:tensorflow:loss = 35767.285, step = 4001 (1.613 sec)\n",
      "INFO:tensorflow:global_step/sec: 62.2246\n",
      "INFO:tensorflow:loss = 106315.336, step = 4101 (1.607 sec)\n",
      "INFO:tensorflow:global_step/sec: 65.5294\n",
      "INFO:tensorflow:loss = 34017.824, step = 4201 (1.526 sec)\n",
      "INFO:tensorflow:global_step/sec: 66.252\n",
      "INFO:tensorflow:loss = 52888.164, step = 4301 (1.509 sec)\n",
      "INFO:tensorflow:global_step/sec: 64.8857\n",
      "INFO:tensorflow:loss = 75996.25, step = 4401 (1.541 sec)\n",
      "INFO:tensorflow:global_step/sec: 64.7251\n",
      "INFO:tensorflow:loss = 60697.227, step = 4501 (1.545 sec)\n",
      "INFO:tensorflow:global_step/sec: 62.7178\n",
      "INFO:tensorflow:loss = 75212.625, step = 4601 (1.595 sec)\n",
      "INFO:tensorflow:global_step/sec: 66.1351\n",
      "INFO:tensorflow:loss = 53056.363, step = 4701 (1.512 sec)\n",
      "INFO:tensorflow:global_step/sec: 66.4243\n",
      "INFO:tensorflow:loss = 38347.324, step = 4801 (1.505 sec)\n",
      "INFO:tensorflow:global_step/sec: 65.6025\n",
      "INFO:tensorflow:loss = 64696.164, step = 4901 (1.524 sec)\n",
      "INFO:tensorflow:global_step/sec: 64.2916\n",
      "INFO:tensorflow:loss = 31294.39, step = 5001 (1.556 sec)\n",
      "INFO:tensorflow:global_step/sec: 66.4279\n",
      "INFO:tensorflow:loss = 46972.023, step = 5101 (1.505 sec)\n",
      "INFO:tensorflow:global_step/sec: 66.0178\n",
      "INFO:tensorflow:loss = 83376.54, step = 5201 (1.515 sec)\n",
      "INFO:tensorflow:global_step/sec: 57.8675\n",
      "INFO:tensorflow:loss = 74590.03, step = 5301 (1.728 sec)\n",
      "INFO:tensorflow:global_step/sec: 56.9621\n",
      "INFO:tensorflow:loss = 44155.58, step = 5401 (1.756 sec)\n",
      "INFO:tensorflow:global_step/sec: 58.1514\n",
      "INFO:tensorflow:loss = 64785.54, step = 5501 (1.720 sec)\n",
      "INFO:tensorflow:global_step/sec: 49.2867\n",
      "INFO:tensorflow:loss = 45953.54, step = 5601 (2.029 sec)\n",
      "INFO:tensorflow:global_step/sec: 51.1946\n",
      "INFO:tensorflow:loss = 44394.473, step = 5701 (1.953 sec)\n",
      "INFO:tensorflow:global_step/sec: 47.5584\n",
      "INFO:tensorflow:loss = 24927.148, step = 5801 (2.103 sec)\n",
      "INFO:tensorflow:global_step/sec: 50.1435\n",
      "INFO:tensorflow:loss = 32676.904, step = 5901 (1.994 sec)\n",
      "INFO:tensorflow:global_step/sec: 50.547\n",
      "INFO:tensorflow:loss = 55748.906, step = 6001 (1.978 sec)\n",
      "INFO:tensorflow:global_step/sec: 52.2031\n",
      "INFO:tensorflow:loss = 72996.22, step = 6101 (1.915 sec)\n",
      "INFO:tensorflow:global_step/sec: 50.0834\n",
      "INFO:tensorflow:loss = 67324.94, step = 6201 (1.997 sec)\n",
      "INFO:tensorflow:global_step/sec: 30.3728\n",
      "INFO:tensorflow:loss = 60553.656, step = 6301 (3.292 sec)\n",
      "INFO:tensorflow:global_step/sec: 67.4346\n",
      "INFO:tensorflow:loss = 67416.71, step = 6401 (1.483 sec)\n",
      "INFO:tensorflow:global_step/sec: 66.4171\n",
      "INFO:tensorflow:loss = 48430.26, step = 6501 (1.506 sec)\n",
      "INFO:tensorflow:global_step/sec: 63.0218\n",
      "INFO:tensorflow:loss = 81419.63, step = 6601 (1.587 sec)\n",
      "INFO:tensorflow:global_step/sec: 61.3166\n",
      "INFO:tensorflow:loss = 31968.803, step = 6701 (1.630 sec)\n",
      "INFO:tensorflow:global_step/sec: 63.6151\n",
      "INFO:tensorflow:loss = 41297.414, step = 6801 (1.572 sec)\n",
      "INFO:tensorflow:global_step/sec: 63.021\n",
      "INFO:tensorflow:loss = 65628.51, step = 6901 (1.587 sec)\n",
      "INFO:tensorflow:global_step/sec: 65.9155\n",
      "INFO:tensorflow:loss = 52481.844, step = 7001 (1.517 sec)\n",
      "INFO:tensorflow:global_step/sec: 61.6727\n",
      "INFO:tensorflow:loss = 81810.06, step = 7101 (1.621 sec)\n",
      "INFO:tensorflow:global_step/sec: 59.309\n",
      "INFO:tensorflow:loss = 40026.61, step = 7201 (1.686 sec)\n",
      "INFO:tensorflow:global_step/sec: 64.7196\n",
      "INFO:tensorflow:loss = 42512.18, step = 7301 (1.545 sec)\n",
      "INFO:tensorflow:global_step/sec: 66.499\n",
      "INFO:tensorflow:loss = 65051.51, step = 7401 (1.504 sec)\n",
      "INFO:tensorflow:global_step/sec: 64.8652\n",
      "INFO:tensorflow:loss = 41804.227, step = 7501 (1.542 sec)\n",
      "INFO:tensorflow:global_step/sec: 63.0306\n",
      "INFO:tensorflow:loss = 38910.96, step = 7601 (1.587 sec)\n",
      "INFO:tensorflow:global_step/sec: 63.661\n",
      "INFO:tensorflow:loss = 67704.25, step = 7701 (1.571 sec)\n",
      "INFO:tensorflow:global_step/sec: 66.5516\n",
      "INFO:tensorflow:loss = 72062.125, step = 7801 (1.503 sec)\n",
      "INFO:tensorflow:global_step/sec: 24.4905\n",
      "INFO:tensorflow:loss = 40009.11, step = 7901 (4.085 sec)\n",
      "INFO:tensorflow:global_step/sec: 45.2234\n",
      "INFO:tensorflow:loss = 51012.92, step = 8001 (2.210 sec)\n",
      "INFO:tensorflow:global_step/sec: 65.6349\n",
      "INFO:tensorflow:loss = 39137.367, step = 8101 (1.524 sec)\n",
      "INFO:tensorflow:global_step/sec: 65.544\n",
      "INFO:tensorflow:loss = 42702.797, step = 8201 (1.526 sec)\n",
      "INFO:tensorflow:global_step/sec: 66.6298\n",
      "INFO:tensorflow:loss = 43194.484, step = 8301 (1.501 sec)\n",
      "INFO:tensorflow:global_step/sec: 61.9478\n",
      "INFO:tensorflow:loss = 36761.086, step = 8401 (1.614 sec)\n",
      "INFO:tensorflow:global_step/sec: 61.8224\n",
      "INFO:tensorflow:loss = 65064.71, step = 8501 (1.618 sec)\n",
      "INFO:tensorflow:global_step/sec: 65.2188\n",
      "INFO:tensorflow:loss = 53664.203, step = 8601 (1.533 sec)\n",
      "INFO:tensorflow:global_step/sec: 65.3455\n",
      "INFO:tensorflow:loss = 51806.15, step = 8701 (1.530 sec)\n",
      "INFO:tensorflow:global_step/sec: 65.9029\n",
      "INFO:tensorflow:loss = 42842.977, step = 8801 (1.517 sec)\n",
      "INFO:tensorflow:global_step/sec: 55.6824\n",
      "INFO:tensorflow:loss = 57958.21, step = 8901 (1.796 sec)\n",
      "INFO:tensorflow:global_step/sec: 54.5384\n",
      "INFO:tensorflow:loss = 44804.72, step = 9001 (1.833 sec)\n",
      "INFO:tensorflow:global_step/sec: 66.3059\n",
      "INFO:tensorflow:loss = 73470.09, step = 9101 (1.508 sec)\n",
      "INFO:tensorflow:global_step/sec: 67.1239\n",
      "INFO:tensorflow:loss = 34024.83, step = 9201 (1.490 sec)\n",
      "INFO:tensorflow:global_step/sec: 68.0476\n",
      "INFO:tensorflow:loss = 38144.14, step = 9301 (1.470 sec)\n",
      "INFO:tensorflow:global_step/sec: 58.5604\n",
      "INFO:tensorflow:loss = 59178.16, step = 9401 (1.708 sec)\n",
      "INFO:tensorflow:global_step/sec: 61.744\n",
      "INFO:tensorflow:loss = 48306.83, step = 9501 (1.619 sec)\n",
      "INFO:tensorflow:global_step/sec: 60.8057\n",
      "INFO:tensorflow:loss = 69222.12, step = 9601 (1.645 sec)\n",
      "INFO:tensorflow:global_step/sec: 65.6376\n",
      "INFO:tensorflow:loss = 41327.53, step = 9701 (1.524 sec)\n",
      "INFO:tensorflow:global_step/sec: 62.8161\n",
      "INFO:tensorflow:loss = 34527.125, step = 9801 (1.592 sec)\n",
      "INFO:tensorflow:global_step/sec: 66.1512\n",
      "INFO:tensorflow:loss = 53255.156, step = 9901 (1.512 sec)\n",
      "INFO:tensorflow:Saving checkpoints for 10000 into ./data/taxi_trained/model.ckpt.\n",
      "INFO:tensorflow:Calling model_fn.\n",
      "INFO:tensorflow:Done calling model_fn.\n",
      "INFO:tensorflow:Starting evaluation at 2019-03-11-13:04:19\n",
      "INFO:tensorflow:Graph was finalized.\n",
      "INFO:tensorflow:Restoring parameters from ./data/taxi_trained/model.ckpt-10000\n",
      "INFO:tensorflow:Running local_init_op.\n",
      "INFO:tensorflow:Done running local_init_op.\n",
      "INFO:tensorflow:Finished evaluation at 2019-03-11-13:04:25\n",
      "INFO:tensorflow:Saving dict for global step 10000: average_loss = 100.316055, global_step = 10000, label/mean = 11.263863, loss = 974948.94, prediction/mean = 7.9043803\n",
      "INFO:tensorflow:Saving 'checkpoint_path' summary for global step 10000: ./data/taxi_trained/model.ckpt-10000\n",
      "INFO:tensorflow:Calling model_fn.\n",
      "INFO:tensorflow:Done calling model_fn.\n",
      "INFO:tensorflow:Signatures INCLUDED in export for Eval: None\n",
      "INFO:tensorflow:Signatures INCLUDED in export for Classify: None\n",
      "INFO:tensorflow:Signatures INCLUDED in export for Regress: None\n",
      "INFO:tensorflow:Signatures INCLUDED in export for Predict: ['predict']\n",
      "INFO:tensorflow:Signatures INCLUDED in export for Train: None\n",
      "INFO:tensorflow:Signatures EXCLUDED from export because they cannot be be served via TensorFlow Serving APIs:\n",
      "INFO:tensorflow:'serving_default' : Regression input must be a single string Tensor; got {'passengers': <tf.Tensor 'Placeholder_4:0' shape=(?,) dtype=float32>, 'pickuplon': <tf.Tensor 'Placeholder:0' shape=(?,) dtype=float32>, 'dropofflon': <tf.Tensor 'Placeholder_3:0' shape=(?,) dtype=float32>, 'pickuplat': <tf.Tensor 'Placeholder_1:0' shape=(?,) dtype=float32>, 'dropofflat': <tf.Tensor 'Placeholder_2:0' shape=(?,) dtype=float32>}\n",
      "INFO:tensorflow:'regression' : Regression input must be a single string Tensor; got {'passengers': <tf.Tensor 'Placeholder_4:0' shape=(?,) dtype=float32>, 'pickuplon': <tf.Tensor 'Placeholder:0' shape=(?,) dtype=float32>, 'dropofflon': <tf.Tensor 'Placeholder_3:0' shape=(?,) dtype=float32>, 'pickuplat': <tf.Tensor 'Placeholder_1:0' shape=(?,) dtype=float32>, 'dropofflat': <tf.Tensor 'Placeholder_2:0' shape=(?,) dtype=float32>}\n",
      "WARNING:tensorflow:Export includes no default signature!\n",
      "INFO:tensorflow:Restoring parameters from ./data/taxi_trained/model.ckpt-10000\n",
      "WARNING:tensorflow:From /usr/local/lib/python2.7/dist-packages/tensorflow/python/estimator/estimator.py:1044: calling add_meta_graph_and_variables (from tensorflow.python.saved_model.builder_impl) with legacy_init_op is deprecated and will be removed in a future version.\n",
      "Instructions for updating:\n",
      "Pass your op to the equivalent parameter main_op instead.\n",
      "INFO:tensorflow:Assets added to graph.\n",
      "INFO:tensorflow:No assets to write.\n",
      "INFO:tensorflow:SavedModel written to: ./data/taxi_trained/export/exporter/temp-1552309465/saved_model.pb\n",
      "INFO:tensorflow:Loss for final step: 31741.207.\n"
     ]
    }
   ],
   "source": [
    "%%bash\n",
    "# Setup python so it sees the task module which controls the model.py\n",
    "export PYTHONPATH=${PYTHONPATH}:${PWD}/${MODEL_NAME}\n",
    "python -m trainer.task \\\n",
    "   --train_data_paths=./data/train.csv \\\n",
    "   --eval_data_paths=./data/valid.csv  \\\n",
    "   --output_dir=${TRAINING_DIR} \\\n",
    "   --train_steps=10000 --job-dir=./data/tmp"
   ]
  },
  {
   "cell_type": "markdown",
   "metadata": {},
   "source": [
    "## Train model locally using gcloud"
   ]
  },
  {
   "cell_type": "code",
   "execution_count": 13,
   "metadata": {},
   "outputs": [
    {
     "name": "stderr",
     "output_type": "stream",
     "text": [
      "INFO:tensorflow:TF_CONFIG environment variable: {u'environment': u'cloud', u'cluster': {}, u'job': {u'args': [u'--train_data_paths=/var/dev/ml-experiments/taxifares/taxi-train.csv', u'--eval_data_paths=/var/dev/ml-experiments/taxifares/taxi-valid.csv', u'--train_steps=1000', u'--output_dir=/var/dev/ml-experiments/taxifares/./data/taxi_trained'], u'job_name': u'trainer.task'}, u'task': {}}\n",
      "INFO:tensorflow:Using default config.\n",
      "INFO:tensorflow:Using config: {'_save_checkpoints_secs': 600, '_num_ps_replicas': 0, '_keep_checkpoint_max': 5, '_task_type': 'worker', '_global_id_in_cluster': 0, '_is_chief': True, '_cluster_spec': <tensorflow.python.training.server_lib.ClusterSpec object at 0x7f653776f990>, '_model_dir': '/var/dev/ml-experiments/taxifares/./data/taxi_trained', '_protocol': None, '_save_checkpoints_steps': None, '_keep_checkpoint_every_n_hours': 10000, '_service': None, '_session_config': allow_soft_placement: true\n",
      "graph_options {\n",
      "  rewrite_options {\n",
      "    meta_optimizer_iterations: ONE\n",
      "  }\n",
      "}\n",
      ", '_tf_random_seed': None, '_save_summary_steps': 100, '_device_fn': None, '_experimental_distribute': None, '_num_worker_replicas': 1, '_task_id': 0, '_log_step_count_steps': 100, '_evaluation_master': '', '_eval_distribute': None, '_train_distribute': None, '_master': ''}\n",
      "INFO:tensorflow:Not using Distribute Coordinator.\n",
      "INFO:tensorflow:Running training and evaluation locally (non-distributed).\n",
      "INFO:tensorflow:Start train and evaluate loop. The evaluate will happen after every checkpoint. Checkpoint frequency is determined based on RunConfig arguments: save_checkpoints_steps None or save_checkpoints_secs 600.\n",
      "INFO:tensorflow:Skipping training since max_steps has already saved.\n"
     ]
    }
   ],
   "source": [
    "%%bash\n",
    "# Use Cloud Machine Learning Engine to train the model in local file system\n",
    "gcloud ml-engine local train \\\n",
    "   --module-name=trainer.task \\\n",
    "   --package-path=${PWD}/${MODEL_NAME}/trainer \\\n",
    "   -- \\\n",
    "   --train_data_paths=${PWD}/taxi-train.csv \\\n",
    "   --eval_data_paths=${PWD}/taxi-valid.csv  \\\n",
    "   --train_steps=1000 \\\n",
    "   --output_dir=${PWD}/${TRAINING_DIR} "
   ]
  },
  {
   "cell_type": "markdown",
   "metadata": {},
   "source": [
    "## Local prediction"
   ]
  },
  {
   "cell_type": "code",
   "execution_count": null,
   "metadata": {},
   "outputs": [],
   "source": [
    "%%bash\n",
    "# This model dir is the model exported after training and is used for prediction\n",
    "#\n",
    "model_dir=$(ls ${PWD}/${TRAINING_DIR}/export/exporter | tail -1)\n",
    "# predict using the trained model\n",
    "gcloud ml-engine local predict  \\\n",
    "    --model-dir=${PWD}/${TRAINING_DIR}/export/exporter/${model_dir} \\\n",
    "    --json-instances=./test.json"
   ]
  },
  {
   "cell_type": "markdown",
   "metadata": {},
   "source": [
    "## Submit trainig job to cloud"
   ]
  },
  {
   "cell_type": "code",
   "execution_count": 20,
   "metadata": {},
   "outputs": [
    {
     "name": "stdout",
     "output_type": "stream",
     "text": [
      "gs://ml-training-kouzoh-p-michal-appspot-com/taxifare/ch4/trained us-central1 taxifare_190215_152520\n",
      "jobId: taxifare_190215_152520\n",
      "state: QUEUED\n"
     ]
    },
    {
     "name": "stderr",
     "output_type": "stream",
     "text": [
      "CommandException: 1 files/objects could not be removed.\n",
      "Job [taxifare_190215_152520] submitted successfully.\n",
      "Your job is still active. You may view the status of your job with the command\n",
      "\n",
      "  $ gcloud ml-engine jobs describe taxifare_190215_152520\n",
      "\n",
      "or continue streaming the logs with the command\n",
      "\n",
      "  $ gcloud ml-engine jobs stream-logs taxifare_190215_152520\n"
     ]
    }
   ],
   "source": [
    "%%bash\n",
    "OUTDIR=gs://${BUCKET}/taxifare/ch4/trained\n",
    "JOBNAME=${MODEL_NAME}_$(date -u +%y%m%d_%H%M%S)\n",
    "echo $OUTDIR $REGION $JOBNAME\n",
    "# Clear the Cloud Storage Bucket used for the training job\n",
    "gsutil -m rm -rf $OUTDIR\n",
    "gcloud ml-engine jobs submit training $JOBNAME \\\n",
    "   --region=$REGION \\\n",
    "   --module-name=trainer.task \\\n",
    "   --package-path=${PWD}/${MODEL_NAME}/trainer \\\n",
    "   --job-dir=$OUTDIR \\\n",
    "   --staging-bucket=gs://$BUCKET \\\n",
    "   --scale-tier=BASIC \\\n",
    "   --runtime-version=$TFVERSION \\\n",
    "   -- \\\n",
    "   --train_data_paths=\"gs://${BUCKET}/taxifare/ch4/taxi_preproc/train*\" \\\n",
    "   --eval_data_paths=\"gs://${BUCKET}/taxifare/ch4/taxi_preproc/valid*\"  \\\n",
    "   --output_dir=$OUTDIR \\\n",
    "   --train_steps=10000"
   ]
  },
  {
   "cell_type": "markdown",
   "metadata": {},
   "source": [
    "Check what's in the directory where cloud training outputs the model"
   ]
  },
  {
   "cell_type": "code",
   "execution_count": 24,
   "metadata": {},
   "outputs": [
    {
     "name": "stdout",
     "output_type": "stream",
     "text": [
      "gs://ml-training-kouzoh-p-michal-appspot-com/taxifare/ch4/trained/export/exporter/\n",
      "gs://ml-training-kouzoh-p-michal-appspot-com/taxifare/ch4/trained/export/exporter/1550244453/\n",
      "gs://ml-training-kouzoh-p-michal-appspot-com/taxifare/ch4/trained/export/exporter/1550244989/\n"
     ]
    }
   ],
   "source": [
    "%%bash\n",
    "gsutil ls gs://${BUCKET}/taxifare/ch4/trained/export/exporter"
   ]
  },
  {
   "cell_type": "markdown",
   "metadata": {},
   "source": [
    "Deploy model - this just creates a model without any content"
   ]
  },
  {
   "cell_type": "code",
   "execution_count": 25,
   "metadata": {},
   "outputs": [
    {
     "name": "stderr",
     "output_type": "stream",
     "text": [
      "Created ml engine model [projects/kouzoh-p-michal/models/taxifare].\n"
     ]
    }
   ],
   "source": [
    "%%bash\n",
    "gcloud ml-engine models create ${MODEL_NAME} --regions $REGION"
   ]
  },
  {
   "cell_type": "markdown",
   "metadata": {},
   "source": [
    " Deploy trained version to the model we created\n"
   ]
  },
  {
   "cell_type": "code",
   "execution_count": 26,
   "metadata": {},
   "outputs": [
    {
     "name": "stdout",
     "output_type": "stream",
     "text": [
      "MODEL_LOCATION = gs://ml-training-kouzoh-p-michal-appspot-com/taxifare/ch4/trained/export/exporter/1550244989/\n"
     ]
    },
    {
     "name": "stderr",
     "output_type": "stream",
     "text": [
      "Creating version (this might take a few minutes)......\n",
      "..............................................................................................................................................................................................................................................................................................................................done.\n"
     ]
    }
   ],
   "source": [
    "%%bash\n",
    "MODEL_LOCATION=$(gsutil ls gs://${BUCKET}/taxifare/ch4/trained/export/exporter | tail -1)\n",
    "\n",
    "echo \"MODEL_LOCATION = ${MODEL_LOCATION}\"\n",
    "\n",
    "gcloud ml-engine versions create ${MODEL_VERSION} --model ${MODEL_NAME} --origin ${MODEL_LOCATION} --runtime-version $TFVERSION"
   ]
  },
  {
   "cell_type": "markdown",
   "metadata": {},
   "source": [
    "## Prediction"
   ]
  },
  {
   "cell_type": "code",
   "execution_count": 34,
   "metadata": {},
   "outputs": [
    {
     "name": "stdout",
     "output_type": "stream",
     "text": [
      "PREDICTIONS\n",
      "[12.195324897766113]\n",
      "[12.210862159729004]\n",
      "[12.200940132141113]\n",
      "[12.212414741516113]\n",
      "[12.21056842803955]\n",
      "[12.20246696472168]\n",
      "[12.170280456542969]\n"
     ]
    }
   ],
   "source": [
    "%%bash\n",
    "gcloud ml-engine predict --model=${MODEL_NAME} --version=${MODEL_VERSION} --json-instances=./data/test.json"
   ]
  },
  {
   "cell_type": "code",
   "execution_count": null,
   "metadata": {},
   "outputs": [],
   "source": []
  }
 ],
 "metadata": {
  "kernelspec": {
   "display_name": "Python 2",
   "language": "python",
   "name": "python2"
  },
  "language_info": {
   "codemirror_mode": {
    "name": "ipython",
    "version": 2
   },
   "file_extension": ".py",
   "mimetype": "text/x-python",
   "name": "python",
   "nbconvert_exporter": "python",
   "pygments_lexer": "ipython2",
   "version": "2.7.12"
  }
 },
 "nbformat": 4,
 "nbformat_minor": 2
}
