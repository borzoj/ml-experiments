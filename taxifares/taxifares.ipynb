{
 "cells": [
  {
   "cell_type": "markdown",
   "metadata": {},
   "source": [
    "reworking of this:\n",
    "\n",
    "[http://localhost:8888/notebooks/training-data-analyst/courses/machine_learning/deepdive/03_tensorflow/e_cloudmle.ipynb#Deploy-model]"
   ]
  },
  {
   "cell_type": "code",
   "execution_count": 1,
   "metadata": {},
   "outputs": [
    {
     "name": "stdout",
     "output_type": "stream",
     "text": [
      "1.12.0\n"
     ]
    }
   ],
   "source": [
    "import tensorflow as tf\n",
    "import pandas as pd\n",
    "import numpy as np\n",
    "import shutil\n",
    "import os\n",
    "print tf.__version__"
   ]
  },
  {
   "cell_type": "code",
   "execution_count": 2,
   "metadata": {},
   "outputs": [],
   "source": [
    "PROJECT = 'kouzoh-p-michal'   \n",
    "BUCKET = 'ml-training-kouzoh-p-michal-appspot-com' \n",
    "REGION = 'us-central1' \n",
    "\n",
    "MODEL_NAME = 'taxifare'\n",
    "MODEL_VERSION = 'v1'\n",
    "TRAINING_DIR = './data/taxi_trained'"
   ]
  },
  {
   "cell_type": "code",
   "execution_count": 3,
   "metadata": {},
   "outputs": [],
   "source": [
    "# for bash\n",
    "os.environ['PROJECT'] = PROJECT\n",
    "os.environ['BUCKET'] = BUCKET\n",
    "os.environ['REGION'] = REGION\n",
    "os.environ['TFVERSION'] = '1.8' \n",
    "os.environ['CLOUDSDK_PYTHON'] = 'python2'\n",
    "os.environ['MODEL_NAME'] = MODEL_NAME\n",
    "os.environ['MODEL_VERSION'] = MODEL_VERSION\n",
    "os.environ['TRAINING_DIR'] = TRAINING_DIR "
   ]
  },
  {
   "cell_type": "markdown",
   "metadata": {},
   "source": [
    "## Training data check\n",
    "Data is prepared as CSVs and uploaded to the bucket in a separate notebook"
   ]
  },
  {
   "cell_type": "code",
   "execution_count": 4,
   "metadata": {},
   "outputs": [],
   "source": [
    "%%bash\n",
    "#gsutil cp gs://$BUCKET/taxifare/ch4/taxi_preproc/test.csv-00000-of-00001 ./data/test.csv\n",
    "#gsutil cp gs://$BUCKET/taxifare/ch4/taxi_preproc/train.csv-00000-of-00001 ./data/train.csv\n",
    "#gsutil cp gs://$BUCKET/taxifare/ch4/taxi_preproc/valid.csv-00000-of-00001 ./data/valid.csv"
   ]
  },
  {
   "cell_type": "markdown",
   "metadata": {},
   "source": [
    "## Remove trained model data"
   ]
  },
  {
   "cell_type": "code",
   "execution_count": 16,
   "metadata": {},
   "outputs": [],
   "source": [
    "%%bash\n",
    "rm -rf $TRAINING_DIR/*"
   ]
  },
  {
   "cell_type": "markdown",
   "metadata": {},
   "source": [
    "## Train model locally"
   ]
  },
  {
   "cell_type": "code",
   "execution_count": 19,
   "metadata": {
    "scrolled": true
   },
   "outputs": [
    {
     "name": "stderr",
     "output_type": "stream",
     "text": [
      "INFO:tensorflow:Using config: {'_save_checkpoints_secs': 30, '_num_ps_replicas': 0, '_keep_checkpoint_max': 3, '_task_type': 'worker', '_global_id_in_cluster': 0, '_is_chief': True, '_cluster_spec': <tensorflow.python.training.server_lib.ClusterSpec object at 0x7f8b9305f810>, '_model_dir': './data/taxi_trained', '_protocol': None, '_save_checkpoints_steps': None, '_keep_checkpoint_every_n_hours': 10000, '_service': None, '_session_config': allow_soft_placement: true\n",
      "graph_options {\n",
      "  rewrite_options {\n",
      "    meta_optimizer_iterations: ONE\n",
      "  }\n",
      "}\n",
      ", '_tf_random_seed': None, '_save_summary_steps': 100, '_device_fn': None, '_experimental_distribute': None, '_num_worker_replicas': 1, '_task_id': 0, '_log_step_count_steps': 100, '_evaluation_master': '', '_eval_distribute': None, '_train_distribute': None, '_master': ''}\n",
      "INFO:tensorflow:Using config: {'_save_checkpoints_secs': 30, '_num_ps_replicas': 0, '_keep_checkpoint_max': 3, '_task_type': 'worker', '_global_id_in_cluster': 0, '_is_chief': True, '_cluster_spec': <tensorflow.python.training.server_lib.ClusterSpec object at 0x7f8b909aaa90>, '_model_dir': './data/taxi_trained', '_protocol': None, '_save_checkpoints_steps': None, '_keep_checkpoint_every_n_hours': 10000, '_service': None, '_session_config': allow_soft_placement: true\n",
      "graph_options {\n",
      "  rewrite_options {\n",
      "    meta_optimizer_iterations: ONE\n",
      "  }\n",
      "}\n",
      ", '_tf_random_seed': None, '_save_summary_steps': 100, '_device_fn': None, '_experimental_distribute': None, '_num_worker_replicas': 1, '_task_id': 0, '_log_step_count_steps': 100, '_evaluation_master': '', '_eval_distribute': None, '_train_distribute': None, '_master': ''}\n",
      "INFO:tensorflow:Not using Distribute Coordinator.\n",
      "INFO:tensorflow:Running training and evaluation locally (non-distributed).\n",
      "INFO:tensorflow:Start train and evaluate loop. The evaluate will happen after every checkpoint. Checkpoint frequency is determined based on RunConfig arguments: save_checkpoints_steps None or save_checkpoints_secs 30.\n",
      "INFO:tensorflow:Calling model_fn.\n",
      "INFO:tensorflow:Calling model_fn.\n",
      "INFO:tensorflow:Done calling model_fn.\n",
      "INFO:tensorflow:Done calling model_fn.\n",
      "INFO:tensorflow:Create CheckpointSaverHook.\n",
      "INFO:tensorflow:Graph was finalized.\n",
      "2019-03-11 15:41:30.464129: I tensorflow/core/platform/cpu_feature_guard.cc:141] Your CPU supports instructions that this TensorFlow binary was not compiled to use: AVX2 FMA\n",
      "INFO:tensorflow:Running local_init_op.\n",
      "INFO:tensorflow:Done running local_init_op.\n",
      "INFO:tensorflow:Saving checkpoints for 0 into ./data/taxi_trained/model.ckpt.\n",
      "INFO:tensorflow:loss = 126567.33, step = 1\n",
      "INFO:tensorflow:global_step/sec: 38.8987\n",
      "INFO:tensorflow:loss = 151217.72, step = 101 (2.571 sec)\n",
      "INFO:tensorflow:global_step/sec: 45.0086\n",
      "INFO:tensorflow:loss = 54715.797, step = 201 (2.222 sec)\n",
      "INFO:tensorflow:global_step/sec: 45.0956\n",
      "INFO:tensorflow:loss = 82819.11, step = 301 (2.217 sec)\n",
      "INFO:tensorflow:global_step/sec: 45.5593\n",
      "INFO:tensorflow:loss = 117565.84, step = 401 (2.195 sec)\n",
      "INFO:tensorflow:global_step/sec: 45.522\n",
      "INFO:tensorflow:loss = 74262.64, step = 501 (2.197 sec)\n",
      "INFO:tensorflow:global_step/sec: 44.8906\n",
      "INFO:tensorflow:loss = 71238.34, step = 601 (2.228 sec)\n",
      "INFO:tensorflow:global_step/sec: 45.9395\n",
      "INFO:tensorflow:loss = 118225.914, step = 701 (2.177 sec)\n",
      "INFO:tensorflow:global_step/sec: 43.5764\n",
      "INFO:tensorflow:loss = 122193.98, step = 801 (2.295 sec)\n",
      "INFO:tensorflow:global_step/sec: 45.7194\n",
      "INFO:tensorflow:loss = 81065.2, step = 901 (2.187 sec)\n",
      "INFO:tensorflow:global_step/sec: 45.2922\n",
      "INFO:tensorflow:loss = 93285.945, step = 1001 (2.208 sec)\n",
      "INFO:tensorflow:global_step/sec: 46.4416\n",
      "INFO:tensorflow:loss = 81256.3, step = 1101 (2.153 sec)\n",
      "INFO:tensorflow:global_step/sec: 45.5441\n",
      "INFO:tensorflow:loss = 56717.938, step = 1201 (2.196 sec)\n",
      "INFO:tensorflow:global_step/sec: 43.7564\n",
      "INFO:tensorflow:loss = 56248.53, step = 1301 (2.285 sec)\n",
      "INFO:tensorflow:Saving checkpoints for 1313 into ./data/taxi_trained/model.ckpt.\n",
      "INFO:tensorflow:Calling model_fn.\n",
      "INFO:tensorflow:Calling model_fn.\n",
      "INFO:tensorflow:Done calling model_fn.\n",
      "INFO:tensorflow:Done calling model_fn.\n",
      "INFO:tensorflow:Starting evaluation at 2019-03-11-15:42:02\n",
      "INFO:tensorflow:Graph was finalized.\n",
      "INFO:tensorflow:Restoring parameters from ./data/taxi_trained/model.ckpt-1313\n",
      "INFO:tensorflow:Running local_init_op.\n",
      "INFO:tensorflow:Done running local_init_op.\n",
      "INFO:tensorflow:Finished evaluation at 2019-03-11-15:42:11\n",
      "INFO:tensorflow:Saving dict for global step 1313: average_loss = 161.23517, global_step = 1313, label/mean = 11.263863, loss = 1567008.0, prediction/mean = 2.7814813, rmse = 12.697841\n",
      "INFO:tensorflow:Saving 'checkpoint_path' summary for global step 1313: ./data/taxi_trained/model.ckpt-1313\n",
      "INFO:tensorflow:Calling model_fn.\n",
      "INFO:tensorflow:Calling model_fn.\n",
      "INFO:tensorflow:Done calling model_fn.\n",
      "INFO:tensorflow:Done calling model_fn.\n",
      "INFO:tensorflow:Signatures INCLUDED in export for Eval: None\n",
      "INFO:tensorflow:Signatures INCLUDED in export for Classify: None\n",
      "INFO:tensorflow:Signatures INCLUDED in export for Regress: None\n",
      "INFO:tensorflow:Signatures INCLUDED in export for Predict: ['predict']\n",
      "INFO:tensorflow:Signatures INCLUDED in export for Train: None\n",
      "INFO:tensorflow:Signatures EXCLUDED from export because they cannot be be served via TensorFlow Serving APIs:\n",
      "INFO:tensorflow:'serving_default' : Regression input must be a single string Tensor; got {'dayofweek': <tf.Tensor 'Placeholder_5:0' shape=(?,) dtype=string>, 'passengers': <tf.Tensor 'Placeholder_4:0' shape=(?,) dtype=float32>, 'pickuplat': <tf.Tensor 'Placeholder:0' shape=(?,) dtype=float32>, 'dropofflat': <tf.Tensor 'Placeholder_2:0' shape=(?,) dtype=float32>, 'hourofday': <tf.Tensor 'Placeholder_6:0' shape=(?,) dtype=int32>, 'pickuplon': <tf.Tensor 'Placeholder_1:0' shape=(?,) dtype=float32>, 'dropofflon': <tf.Tensor 'Placeholder_3:0' shape=(?,) dtype=float32>}\n",
      "INFO:tensorflow:'regression' : Regression input must be a single string Tensor; got {'dayofweek': <tf.Tensor 'Placeholder_5:0' shape=(?,) dtype=string>, 'passengers': <tf.Tensor 'Placeholder_4:0' shape=(?,) dtype=float32>, 'pickuplat': <tf.Tensor 'Placeholder:0' shape=(?,) dtype=float32>, 'dropofflat': <tf.Tensor 'Placeholder_2:0' shape=(?,) dtype=float32>, 'hourofday': <tf.Tensor 'Placeholder_6:0' shape=(?,) dtype=int32>, 'pickuplon': <tf.Tensor 'Placeholder_1:0' shape=(?,) dtype=float32>, 'dropofflon': <tf.Tensor 'Placeholder_3:0' shape=(?,) dtype=float32>}\n",
      "WARNING:tensorflow:Export includes no default signature!\n",
      "INFO:tensorflow:Restoring parameters from ./data/taxi_trained/model.ckpt-1313\n",
      "WARNING:tensorflow:From /usr/local/lib/python2.7/dist-packages/tensorflow/python/estimator/estimator.py:1044: calling add_meta_graph_and_variables (from tensorflow.python.saved_model.builder_impl) with legacy_init_op is deprecated and will be removed in a future version.\n",
      "Instructions for updating:\n",
      "Pass your op to the equivalent parameter main_op instead.\n",
      "INFO:tensorflow:Assets added to graph.\n",
      "INFO:tensorflow:No assets to write.\n",
      "INFO:tensorflow:SavedModel written to: ./data/taxi_trained/export/exporter/temp-1552318931/saved_model.pb\n",
      "INFO:tensorflow:global_step/sec: 7.51434\n",
      "INFO:tensorflow:loss = 56273.297, step = 1401 (13.308 sec)\n",
      "INFO:tensorflow:global_step/sec: 44.7983\n",
      "INFO:tensorflow:loss = 79206.91, step = 1501 (2.232 sec)\n",
      "INFO:tensorflow:global_step/sec: 43.6048\n",
      "INFO:tensorflow:loss = 94895.39, step = 1601 (2.293 sec)\n",
      "INFO:tensorflow:global_step/sec: 41.6509\n",
      "INFO:tensorflow:loss = 107650.375, step = 1701 (2.401 sec)\n",
      "INFO:tensorflow:global_step/sec: 45.5269\n",
      "INFO:tensorflow:loss = 82280.27, step = 1801 (2.197 sec)\n",
      "INFO:tensorflow:global_step/sec: 44.7287\n",
      "INFO:tensorflow:loss = 80818.7, step = 1901 (2.236 sec)\n",
      "INFO:tensorflow:global_step/sec: 45.1069\n",
      "INFO:tensorflow:loss = 72246.14, step = 2001 (2.217 sec)\n",
      "INFO:tensorflow:global_step/sec: 45.3083\n",
      "INFO:tensorflow:loss = 104341.37, step = 2101 (2.207 sec)\n",
      "INFO:tensorflow:Saving checkpoints for 2156 into ./data/taxi_trained/model.ckpt.\n",
      "INFO:tensorflow:Skip the current checkpoint eval due to throttle secs (300 secs).\n",
      "INFO:tensorflow:global_step/sec: 44.2458\n",
      "INFO:tensorflow:loss = 75884.7, step = 2201 (2.260 sec)\n",
      "INFO:tensorflow:global_step/sec: 43.8345\n",
      "INFO:tensorflow:loss = 57021.414, step = 2301 (2.281 sec)\n",
      "INFO:tensorflow:global_step/sec: 45.7092\n",
      "INFO:tensorflow:loss = 155695.22, step = 2401 (2.188 sec)\n",
      "INFO:tensorflow:global_step/sec: 44.9915\n",
      "INFO:tensorflow:loss = 69507.47, step = 2501 (2.223 sec)\n",
      "INFO:tensorflow:global_step/sec: 45.6634\n",
      "INFO:tensorflow:loss = 100987.59, step = 2601 (2.190 sec)\n",
      "INFO:tensorflow:global_step/sec: 44.9532\n",
      "INFO:tensorflow:loss = 45915.668, step = 2701 (2.225 sec)\n",
      "INFO:tensorflow:global_step/sec: 43.5815\n",
      "INFO:tensorflow:loss = 58322.316, step = 2801 (2.295 sec)\n",
      "INFO:tensorflow:global_step/sec: 44.3302\n",
      "INFO:tensorflow:loss = 96793.99, step = 2901 (2.256 sec)\n",
      "INFO:tensorflow:global_step/sec: 42.4095\n",
      "INFO:tensorflow:loss = 59724.805, step = 3001 (2.358 sec)\n",
      "INFO:tensorflow:global_step/sec: 41.8864\n",
      "INFO:tensorflow:loss = 58408.58, step = 3101 (2.387 sec)\n",
      "INFO:tensorflow:global_step/sec: 42.8257\n",
      "INFO:tensorflow:loss = 103798.766, step = 3201 (2.335 sec)\n",
      "INFO:tensorflow:global_step/sec: 44.7788\n",
      "INFO:tensorflow:loss = 111863.72, step = 3301 (2.233 sec)\n",
      "INFO:tensorflow:global_step/sec: 44.7166\n",
      "INFO:tensorflow:loss = 51061.254, step = 3401 (2.236 sec)\n",
      "INFO:tensorflow:Saving checkpoints for 3479 into ./data/taxi_trained/model.ckpt.\n",
      "INFO:tensorflow:Skip the current checkpoint eval due to throttle secs (300 secs).\n",
      "INFO:tensorflow:global_step/sec: 42.2299\n",
      "INFO:tensorflow:loss = 98799.42, step = 3501 (2.368 sec)\n",
      "INFO:tensorflow:global_step/sec: 41.0669\n",
      "INFO:tensorflow:loss = 63728.11, step = 3601 (2.435 sec)\n",
      "INFO:tensorflow:global_step/sec: 44.7061\n",
      "INFO:tensorflow:loss = 44578.11, step = 3701 (2.237 sec)\n",
      "INFO:tensorflow:global_step/sec: 46.487\n",
      "INFO:tensorflow:loss = 54417.203, step = 3801 (2.151 sec)\n",
      "INFO:tensorflow:global_step/sec: 45.6396\n",
      "INFO:tensorflow:loss = 39717.156, step = 3901 (2.191 sec)\n",
      "INFO:tensorflow:global_step/sec: 42.8996\n",
      "INFO:tensorflow:loss = 66727.34, step = 4001 (2.331 sec)\n",
      "INFO:tensorflow:global_step/sec: 43.3472\n",
      "INFO:tensorflow:loss = 98427.83, step = 4101 (2.307 sec)\n",
      "INFO:tensorflow:global_step/sec: 44.5007\n",
      "INFO:tensorflow:loss = 71984.56, step = 4201 (2.247 sec)\n",
      "INFO:tensorflow:global_step/sec: 42.6441\n",
      "INFO:tensorflow:loss = 56851.637, step = 4301 (2.345 sec)\n",
      "INFO:tensorflow:global_step/sec: 29.893\n",
      "INFO:tensorflow:loss = 65845.33, step = 4401 (3.346 sec)\n",
      "INFO:tensorflow:global_step/sec: 28.8518\n",
      "INFO:tensorflow:loss = 43665.55, step = 4501 (3.466 sec)\n",
      "INFO:tensorflow:global_step/sec: 26.8484\n",
      "INFO:tensorflow:loss = 87004.25, step = 4601 (3.725 sec)\n",
      "INFO:tensorflow:Saving checkpoints for 4620 into ./data/taxi_trained/model.ckpt.\n",
      "INFO:tensorflow:Skip the current checkpoint eval due to throttle secs (300 secs).\n",
      "INFO:tensorflow:global_step/sec: 30.9184\n",
      "INFO:tensorflow:loss = 43952.047, step = 4701 (3.234 sec)\n",
      "INFO:tensorflow:global_step/sec: 32.1145\n",
      "INFO:tensorflow:loss = 49610.434, step = 4801 (3.114 sec)\n",
      "INFO:tensorflow:global_step/sec: 34.3042\n",
      "INFO:tensorflow:loss = 86446.69, step = 4901 (2.915 sec)\n",
      "INFO:tensorflow:global_step/sec: 36.4395\n",
      "INFO:tensorflow:loss = 69130.28, step = 5001 (2.744 sec)\n",
      "INFO:tensorflow:global_step/sec: 36.1551\n",
      "INFO:tensorflow:loss = 82935.08, step = 5101 (2.766 sec)\n",
      "INFO:tensorflow:global_step/sec: 35.3074\n",
      "INFO:tensorflow:loss = 45694.746, step = 5201 (2.832 sec)\n",
      "INFO:tensorflow:global_step/sec: 36.7119\n",
      "INFO:tensorflow:loss = 48820.99, step = 5301 (2.724 sec)\n",
      "INFO:tensorflow:global_step/sec: 39.0051\n",
      "INFO:tensorflow:loss = 88857.19, step = 5401 (2.564 sec)\n",
      "INFO:tensorflow:global_step/sec: 39.2315\n",
      "INFO:tensorflow:loss = 37635.047, step = 5501 (2.549 sec)\n",
      "INFO:tensorflow:global_step/sec: 33.7327\n",
      "INFO:tensorflow:loss = 44437.56, step = 5601 (2.964 sec)\n",
      "INFO:tensorflow:Saving checkpoints for 5688 into ./data/taxi_trained/model.ckpt.\n",
      "INFO:tensorflow:Skip the current checkpoint eval due to throttle secs (300 secs).\n",
      "INFO:tensorflow:global_step/sec: 36.3101\n",
      "INFO:tensorflow:loss = 60599.367, step = 5701 (2.754 sec)\n",
      "INFO:tensorflow:global_step/sec: 39.4301\n",
      "INFO:tensorflow:loss = 84699.266, step = 5801 (2.539 sec)\n",
      "INFO:tensorflow:global_step/sec: 36.4649\n",
      "INFO:tensorflow:loss = 59672.055, step = 5901 (2.739 sec)\n",
      "INFO:tensorflow:global_step/sec: 39.7984\n",
      "INFO:tensorflow:loss = 49181.844, step = 6001 (2.513 sec)\n",
      "INFO:tensorflow:global_step/sec: 39.0504\n",
      "INFO:tensorflow:loss = 44167.99, step = 6101 (2.561 sec)\n",
      "INFO:tensorflow:global_step/sec: 42.3935\n",
      "INFO:tensorflow:loss = 46710.164, step = 6201 (2.359 sec)\n",
      "INFO:tensorflow:global_step/sec: 40.3679\n",
      "INFO:tensorflow:loss = 44223.742, step = 6301 (2.477 sec)\n",
      "INFO:tensorflow:global_step/sec: 38.8607\n",
      "INFO:tensorflow:loss = 41013.598, step = 6401 (2.573 sec)\n",
      "INFO:tensorflow:global_step/sec: 34.2536\n",
      "INFO:tensorflow:loss = 56861.875, step = 6501 (2.919 sec)\n",
      "INFO:tensorflow:global_step/sec: 40.4914\n",
      "INFO:tensorflow:loss = 86801.42, step = 6601 (2.470 sec)\n",
      "INFO:tensorflow:global_step/sec: 42.1929\n",
      "INFO:tensorflow:loss = 80344.46, step = 6701 (2.370 sec)\n",
      "INFO:tensorflow:global_step/sec: 41.9713\n",
      "INFO:tensorflow:loss = 54241.81, step = 6801 (2.383 sec)\n",
      "INFO:tensorflow:Saving checkpoints for 6870 into ./data/taxi_trained/model.ckpt.\n",
      "INFO:tensorflow:Skip the current checkpoint eval due to throttle secs (300 secs).\n",
      "INFO:tensorflow:global_step/sec: 42.9487\n",
      "INFO:tensorflow:loss = 49552.586, step = 6901 (2.328 sec)\n",
      "INFO:tensorflow:global_step/sec: 43.4157\n",
      "INFO:tensorflow:loss = 45122.27, step = 7001 (2.303 sec)\n",
      "INFO:tensorflow:global_step/sec: 42.9633\n",
      "INFO:tensorflow:loss = 111153.55, step = 7101 (2.328 sec)\n",
      "INFO:tensorflow:global_step/sec: 44.1443\n",
      "INFO:tensorflow:loss = 45418.938, step = 7201 (2.265 sec)\n",
      "INFO:tensorflow:global_step/sec: 41.471\n",
      "INFO:tensorflow:loss = 38930.35, step = 7301 (2.411 sec)\n",
      "INFO:tensorflow:global_step/sec: 41.8174\n",
      "INFO:tensorflow:loss = 62342.727, step = 7401 (2.391 sec)\n",
      "INFO:tensorflow:global_step/sec: 42.4918\n",
      "INFO:tensorflow:loss = 58549.477, step = 7501 (2.353 sec)\n",
      "INFO:tensorflow:global_step/sec: 40.658\n",
      "INFO:tensorflow:loss = 64610.906, step = 7601 (2.460 sec)\n",
      "INFO:tensorflow:global_step/sec: 40.1917\n",
      "INFO:tensorflow:loss = 42128.605, step = 7701 (2.488 sec)\n",
      "INFO:tensorflow:global_step/sec: 40.8229\n",
      "INFO:tensorflow:loss = 40807.906, step = 7801 (2.450 sec)\n",
      "INFO:tensorflow:global_step/sec: 32.8366\n",
      "INFO:tensorflow:loss = 85349.81, step = 7901 (3.046 sec)\n",
      "INFO:tensorflow:global_step/sec: 37.5499\n",
      "INFO:tensorflow:loss = 30680.936, step = 8001 (2.663 sec)\n",
      "INFO:tensorflow:Saving checkpoints for 8069 into ./data/taxi_trained/model.ckpt.\n",
      "INFO:tensorflow:Skip the current checkpoint eval due to throttle secs (300 secs).\n",
      "INFO:tensorflow:global_step/sec: 29.8489\n",
      "INFO:tensorflow:loss = 49790.188, step = 8101 (3.350 sec)\n",
      "INFO:tensorflow:global_step/sec: 35.725\n",
      "INFO:tensorflow:loss = 93997.95, step = 8201 (2.799 sec)\n",
      "INFO:tensorflow:global_step/sec: 38.5978\n",
      "INFO:tensorflow:loss = 72560.555, step = 8301 (2.591 sec)\n",
      "INFO:tensorflow:global_step/sec: 38.4057\n",
      "INFO:tensorflow:loss = 48252.97, step = 8401 (2.604 sec)\n",
      "INFO:tensorflow:global_step/sec: 40.985\n",
      "INFO:tensorflow:loss = 41866.35, step = 8501 (2.440 sec)\n",
      "INFO:tensorflow:global_step/sec: 42.3228\n",
      "INFO:tensorflow:loss = 60838.133, step = 8601 (2.363 sec)\n",
      "INFO:tensorflow:global_step/sec: 40.544\n",
      "INFO:tensorflow:loss = 34502.832, step = 8701 (2.466 sec)\n",
      "INFO:tensorflow:global_step/sec: 37.5767\n",
      "INFO:tensorflow:loss = 23116.748, step = 8801 (2.661 sec)\n",
      "INFO:tensorflow:global_step/sec: 39.7151\n",
      "INFO:tensorflow:loss = 45275.188, step = 8901 (2.518 sec)\n",
      "INFO:tensorflow:global_step/sec: 39.2534\n",
      "INFO:tensorflow:loss = 56631.516, step = 9001 (2.548 sec)\n",
      "INFO:tensorflow:global_step/sec: 38.6692\n",
      "INFO:tensorflow:loss = 58900.96, step = 9101 (2.586 sec)\n",
      "INFO:tensorflow:global_step/sec: 39.9009\n",
      "INFO:tensorflow:loss = 49546.305, step = 9201 (2.506 sec)\n",
      "INFO:tensorflow:Saving checkpoints for 9230 into ./data/taxi_trained/model.ckpt.\n",
      "INFO:tensorflow:Skip the current checkpoint eval due to throttle secs (300 secs).\n",
      "INFO:tensorflow:global_step/sec: 41.2918\n",
      "INFO:tensorflow:loss = 43528.594, step = 9301 (2.422 sec)\n",
      "INFO:tensorflow:global_step/sec: 38.9644\n",
      "INFO:tensorflow:loss = 50156.53, step = 9401 (2.566 sec)\n",
      "INFO:tensorflow:global_step/sec: 36.7797\n",
      "INFO:tensorflow:loss = 34320.61, step = 9501 (2.719 sec)\n",
      "INFO:tensorflow:global_step/sec: 40.1158\n",
      "INFO:tensorflow:loss = 70443.99, step = 9601 (2.493 sec)\n",
      "INFO:tensorflow:global_step/sec: 33.9962\n",
      "INFO:tensorflow:loss = 36173.465, step = 9701 (2.942 sec)\n",
      "INFO:tensorflow:global_step/sec: 40.0585\n",
      "INFO:tensorflow:loss = 44052.19, step = 9801 (2.496 sec)\n",
      "INFO:tensorflow:global_step/sec: 39.1479\n",
      "INFO:tensorflow:loss = 73196.45, step = 9901 (2.554 sec)\n",
      "INFO:tensorflow:Saving checkpoints for 10000 into ./data/taxi_trained/model.ckpt.\n",
      "INFO:tensorflow:Skip the current checkpoint eval due to throttle secs (300 secs).\n",
      "INFO:tensorflow:Calling model_fn.\n",
      "INFO:tensorflow:Calling model_fn.\n",
      "INFO:tensorflow:Done calling model_fn.\n",
      "INFO:tensorflow:Done calling model_fn.\n",
      "INFO:tensorflow:Starting evaluation at 2019-03-11-15:45:52\n",
      "INFO:tensorflow:Graph was finalized.\n",
      "INFO:tensorflow:Restoring parameters from ./data/taxi_trained/model.ckpt-10000\n",
      "INFO:tensorflow:Running local_init_op.\n",
      "INFO:tensorflow:Done running local_init_op.\n",
      "INFO:tensorflow:Finished evaluation at 2019-03-11-15:46:03\n",
      "INFO:tensorflow:Saving dict for global step 10000: average_loss = 109.83886, global_step = 10000, label/mean = 11.263863, loss = 1067498.9, prediction/mean = 6.7828407, rmse = 10.480404\n",
      "INFO:tensorflow:Saving 'checkpoint_path' summary for global step 10000: ./data/taxi_trained/model.ckpt-10000\n",
      "INFO:tensorflow:Calling model_fn.\n",
      "INFO:tensorflow:Calling model_fn.\n",
      "INFO:tensorflow:Done calling model_fn.\n",
      "INFO:tensorflow:Done calling model_fn.\n",
      "INFO:tensorflow:Signatures INCLUDED in export for Eval: None\n",
      "INFO:tensorflow:Signatures INCLUDED in export for Classify: None\n",
      "INFO:tensorflow:Signatures INCLUDED in export for Regress: None\n",
      "INFO:tensorflow:Signatures INCLUDED in export for Predict: ['predict']\n",
      "INFO:tensorflow:Signatures INCLUDED in export for Train: None\n",
      "INFO:tensorflow:Signatures EXCLUDED from export because they cannot be be served via TensorFlow Serving APIs:\n",
      "INFO:tensorflow:'serving_default' : Regression input must be a single string Tensor; got {'dayofweek': <tf.Tensor 'Placeholder_5:0' shape=(?,) dtype=string>, 'passengers': <tf.Tensor 'Placeholder_4:0' shape=(?,) dtype=float32>, 'pickuplat': <tf.Tensor 'Placeholder:0' shape=(?,) dtype=float32>, 'dropofflat': <tf.Tensor 'Placeholder_2:0' shape=(?,) dtype=float32>, 'hourofday': <tf.Tensor 'Placeholder_6:0' shape=(?,) dtype=int32>, 'pickuplon': <tf.Tensor 'Placeholder_1:0' shape=(?,) dtype=float32>, 'dropofflon': <tf.Tensor 'Placeholder_3:0' shape=(?,) dtype=float32>}\n",
      "INFO:tensorflow:'regression' : Regression input must be a single string Tensor; got {'dayofweek': <tf.Tensor 'Placeholder_5:0' shape=(?,) dtype=string>, 'passengers': <tf.Tensor 'Placeholder_4:0' shape=(?,) dtype=float32>, 'pickuplat': <tf.Tensor 'Placeholder:0' shape=(?,) dtype=float32>, 'dropofflat': <tf.Tensor 'Placeholder_2:0' shape=(?,) dtype=float32>, 'hourofday': <tf.Tensor 'Placeholder_6:0' shape=(?,) dtype=int32>, 'pickuplon': <tf.Tensor 'Placeholder_1:0' shape=(?,) dtype=float32>, 'dropofflon': <tf.Tensor 'Placeholder_3:0' shape=(?,) dtype=float32>}\n",
      "WARNING:tensorflow:Export includes no default signature!\n",
      "INFO:tensorflow:Restoring parameters from ./data/taxi_trained/model.ckpt-10000\n",
      "INFO:tensorflow:Assets added to graph.\n",
      "INFO:tensorflow:No assets to write.\n",
      "INFO:tensorflow:SavedModel written to: ./data/taxi_trained/export/exporter/temp-1552319163/saved_model.pb\n",
      "INFO:tensorflow:Loss for final step: 64906.33.\n"
     ]
    }
   ],
   "source": [
    "%%bash\n",
    "# Setup python so it sees the task module which controls the model.py\n",
    "export PYTHONPATH=${PYTHONPATH}:${PWD}/${MODEL_NAME}\n",
    "python -m trainer.task \\\n",
    "   --train_data_paths=./data/train.csv \\\n",
    "   --eval_data_paths=./data/valid.csv  \\\n",
    "   --output_dir=${TRAINING_DIR} \\\n",
    "   --train_steps=10000 --job-dir=./data/tmp"
   ]
  },
  {
   "cell_type": "markdown",
   "metadata": {},
   "source": [
    "## Train model locally using gcloud"
   ]
  },
  {
   "cell_type": "code",
   "execution_count": null,
   "metadata": {},
   "outputs": [],
   "source": [
    "%%bash\n",
    "# Use Cloud Machine Learning Engine to train the model in local file system\n",
    "gcloud ml-engine local train \\\n",
    "   --module-name=trainer.task \\\n",
    "   --package-path=${PWD}/${MODEL_NAME}/trainer \\\n",
    "   -- \\\n",
    "   --train_data_paths=${PWD}/taxi-train.csv \\\n",
    "   --eval_data_paths=${PWD}/taxi-valid.csv  \\\n",
    "   --train_steps=1000 \\\n",
    "   --output_dir=${PWD}/${TRAINING_DIR} "
   ]
  },
  {
   "cell_type": "markdown",
   "metadata": {},
   "source": [
    "## Local prediction"
   ]
  },
  {
   "cell_type": "code",
   "execution_count": 21,
   "metadata": {},
   "outputs": [
    {
     "name": "stdout",
     "output_type": "stream",
     "text": [
      "PREDICTIONS\n",
      "[7.211677074432373]\n",
      "[6.5388078689575195]\n",
      "[7.211677074432373]\n",
      "[6.5388078689575195]\n",
      "[6.5388078689575195]\n",
      "[7.211677074432373]\n",
      "[9.23028564453125]\n"
     ]
    },
    {
     "name": "stderr",
     "output_type": "stream",
     "text": [
      "WARNING: 2019-03-11 15:48:26.443194: I tensorflow/core/platform/cpu_feature_guard.cc:141] Your CPU supports instructions that this TensorFlow binary was not compiled to use: AVX2 FMA\n",
      "\n"
     ]
    }
   ],
   "source": [
    "%%bash\n",
    "# This model dir is the model exported after training and is used for prediction\n",
    "#\n",
    "model_dir=$(ls ${PWD}/${TRAINING_DIR}/export/exporter | tail -1)\n",
    "# predict using the trained model\n",
    "gcloud ml-engine local predict  \\\n",
    "    --model-dir=${PWD}/${TRAINING_DIR}/export/exporter/${model_dir} \\\n",
    "    --json-instances=./data/test.json"
   ]
  },
  {
   "cell_type": "markdown",
   "metadata": {},
   "source": [
    "## Submit trainig job to cloud"
   ]
  },
  {
   "cell_type": "code",
   "execution_count": null,
   "metadata": {},
   "outputs": [],
   "source": [
    "%%bash\n",
    "OUTDIR=gs://${BUCKET}/taxifare/ch4/trained\n",
    "JOBNAME=${MODEL_NAME}_$(date -u +%y%m%d_%H%M%S)\n",
    "echo $OUTDIR $REGION $JOBNAME\n",
    "# Clear the Cloud Storage Bucket used for the training job\n",
    "gsutil -m rm -rf $OUTDIR\n",
    "gcloud ml-engine jobs submit training $JOBNAME \\\n",
    "   --region=$REGION \\\n",
    "   --module-name=trainer.task \\\n",
    "   --package-path=${PWD}/${MODEL_NAME}/trainer \\\n",
    "   --job-dir=$OUTDIR \\\n",
    "   --staging-bucket=gs://$BUCKET \\\n",
    "   --scale-tier=BASIC \\\n",
    "   --runtime-version=$TFVERSION \\\n",
    "   -- \\\n",
    "   --train_data_paths=\"gs://${BUCKET}/taxifare/ch4/taxi_preproc/train*\" \\\n",
    "   --eval_data_paths=\"gs://${BUCKET}/taxifare/ch4/taxi_preproc/valid*\"  \\\n",
    "   --output_dir=$OUTDIR \\\n",
    "   --train_steps=10000"
   ]
  },
  {
   "cell_type": "markdown",
   "metadata": {},
   "source": [
    "Check what's in the directory where cloud training outputs the model"
   ]
  },
  {
   "cell_type": "code",
   "execution_count": null,
   "metadata": {},
   "outputs": [],
   "source": [
    "%%bash\n",
    "gsutil ls gs://${BUCKET}/taxifare/ch4/trained/export/exporter"
   ]
  },
  {
   "cell_type": "markdown",
   "metadata": {},
   "source": [
    "Deploy model - this just creates a model without any content"
   ]
  },
  {
   "cell_type": "code",
   "execution_count": null,
   "metadata": {},
   "outputs": [],
   "source": [
    "%%bash\n",
    "gcloud ml-engine models create ${MODEL_NAME} --regions $REGION"
   ]
  },
  {
   "cell_type": "markdown",
   "metadata": {},
   "source": [
    " Deploy trained version to the model we created\n"
   ]
  },
  {
   "cell_type": "code",
   "execution_count": null,
   "metadata": {},
   "outputs": [],
   "source": [
    "%%bash\n",
    "MODEL_LOCATION=$(gsutil ls gs://${BUCKET}/taxifare/ch4/trained/export/exporter | tail -1)\n",
    "\n",
    "echo \"MODEL_LOCATION = ${MODEL_LOCATION}\"\n",
    "\n",
    "gcloud ml-engine versions create ${MODEL_VERSION} --model ${MODEL_NAME} --origin ${MODEL_LOCATION} --runtime-version $TFVERSION"
   ]
  },
  {
   "cell_type": "markdown",
   "metadata": {},
   "source": [
    "## Prediction"
   ]
  },
  {
   "cell_type": "code",
   "execution_count": null,
   "metadata": {},
   "outputs": [],
   "source": [
    "%%bash\n",
    "gcloud ml-engine predict --model=${MODEL_NAME} --version=${MODEL_VERSION} --json-instances=./data/test.json"
   ]
  },
  {
   "cell_type": "code",
   "execution_count": null,
   "metadata": {},
   "outputs": [],
   "source": []
  }
 ],
 "metadata": {
  "kernelspec": {
   "display_name": "Python 2",
   "language": "python",
   "name": "python2"
  },
  "language_info": {
   "codemirror_mode": {
    "name": "ipython",
    "version": 2
   },
   "file_extension": ".py",
   "mimetype": "text/x-python",
   "name": "python",
   "nbconvert_exporter": "python",
   "pygments_lexer": "ipython2",
   "version": "2.7.12"
  }
 },
 "nbformat": 4,
 "nbformat_minor": 2
}
