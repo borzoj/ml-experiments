{
 "cells": [
  {
   "cell_type": "code",
   "execution_count": 2,
   "metadata": {},
   "outputs": [],
   "source": [
    "import tensorflow as tf\n",
    "import pandas as pd\n",
    "import numpy as np\n",
    "import shutil\n",
    "import os"
   ]
  },
  {
   "cell_type": "code",
   "execution_count": 4,
   "metadata": {},
   "outputs": [],
   "source": [
    "PROJECT = 'kouzoh-p-michal'   \n",
    "BUCKET = 'ml-training-kouzoh-p-michal-appspot-com' \n",
    "REGION = 'us-central1' \n",
    "\n",
    "MODEL_NAME = 'taxifare'\n",
    "MODEL_VERSION = 'v1'\n",
    "TRAINING_DIR = './data/taxi_trained'"
   ]
  },
  {
   "cell_type": "code",
   "execution_count": 5,
   "metadata": {},
   "outputs": [],
   "source": [
    "# for bash\n",
    "os.environ['PROJECT'] = PROJECT\n",
    "os.environ['BUCKET'] = BUCKET\n",
    "os.environ['REGION'] = REGION\n",
    "os.environ['TFVERSION'] = '1.8' \n",
    "os.environ['CLOUDSDK_PYTHON'] = 'python2'\n",
    "os.environ['MODEL_NAME'] = MODEL_NAME\n",
    "os.environ['MODEL_VERSION'] = MODEL_VERSION\n",
    "os.environ['TRAINING_DIR'] = TRAINING_DIR "
   ]
  },
  {
   "cell_type": "markdown",
   "metadata": {},
   "source": [
    "## Training data check\n",
    "Data is prepared as CSVs and uploaded to the bucket in a separate notebook"
   ]
  },
  {
   "cell_type": "code",
   "execution_count": 6,
   "metadata": {},
   "outputs": [
    {
     "name": "stdout",
     "output_type": "stream",
     "text": [
      "gs://ml-training-kouzoh-p-michal-appspot-com/taxifare/ch4/taxi_preproc/test.csv-00000-of-00001\n",
      "gs://ml-training-kouzoh-p-michal-appspot-com/taxifare/ch4/taxi_preproc/train.csv-00000-of-00001\n",
      "gs://ml-training-kouzoh-p-michal-appspot-com/taxifare/ch4/taxi_preproc/valid.csv-00000-of-00001\n",
      "gs://ml-training-kouzoh-p-michal-appspot-com/taxifare/ch4/taxi_preproc/tmp/\n"
     ]
    }
   ],
   "source": [
    "%%bash\n",
    "gsutil ls gs://$BUCKET/taxifare/ch4/taxi_preproc/"
   ]
  },
  {
   "cell_type": "markdown",
   "metadata": {},
   "source": [
    "## Remove trained model data"
   ]
  },
  {
   "cell_type": "code",
   "execution_count": 19,
   "metadata": {},
   "outputs": [],
   "source": [
    "%%bash\n",
    "rm -rf $TRAINING_DIR/*"
   ]
  },
  {
   "cell_type": "markdown",
   "metadata": {},
   "source": [
    "we're integrating this:\n",
    "http://localhost:8888/notebooks/jupyter/training-data-\n",
    "analyst/courses/machine_learning/deepdive/03_tensorflow/e_cloudmle.ipynb"
   ]
  },
  {
   "cell_type": "code",
   "execution_count": 2,
   "metadata": {},
   "outputs": [
    {
     "name": "stderr",
     "output_type": "stream",
     "text": [
      "/usr/bin/python: No module named trainer\n"
     ]
    }
   ],
   "source": [
    "%%bash\n",
    "# Setup python so it sees the task module which controls the model.py\n",
    "export PYTHONPATH=${PYTHONPATH}:${PWD}/${MODEL_NAME}\n",
    "python -m trainer.task \\\n",
    "   --train_data_paths=./data/train.csv \\\n",
    "   --eval_data_paths=./data/valid.csv  \\\n",
    "   --output_dir=${TRAINING_DIR} \\\n",
    "   --train_steps=1000 --job-dir=./data/tmp"
   ]
  }
 ],
 "metadata": {
  "kernelspec": {
   "display_name": "Python 2",
   "language": "python",
   "name": "python2"
  },
  "language_info": {
   "codemirror_mode": {
    "name": "ipython",
    "version": 2
   },
   "file_extension": ".py",
   "mimetype": "text/x-python",
   "name": "python",
   "nbconvert_exporter": "python",
   "pygments_lexer": "ipython2",
   "version": "2.7.12"
  }
 },
 "nbformat": 4,
 "nbformat_minor": 2
}
